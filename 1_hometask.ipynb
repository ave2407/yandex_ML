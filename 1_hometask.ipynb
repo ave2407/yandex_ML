{
 "cells": [
  {
   "cell_type": "markdown",
   "id": "794c05f9",
   "metadata": {},
   "source": [
    "# 1"
   ]
  },
  {
   "cell_type": "code",
   "execution_count": 6,
   "id": "b2f21108",
   "metadata": {},
   "outputs": [
    {
     "name": "stdout",
     "output_type": "stream",
     "text": [
      "1 5 2 9 2 3\n",
      "1.5 5.2 2.3 8.7 2.8 3.3\n",
      "MSE: 0.20\n",
      "MAE: 0.40\n",
      "RMSE: 0.45\n"
     ]
    }
   ],
   "source": [
    "import numpy as np\n",
    "from math import sqrt\n",
    "\n",
    "MSE = 0\n",
    "MAE = 0\n",
    "RMSE = 0\n",
    "\n",
    "\n",
    "y_true = list(map(float, input().split()))\n",
    "y_pred = list(map(float, input().split()))\n",
    "\n",
    "for t, p in zip(y_true, y_pred):\n",
    "    MSE += (t - p) ** 2\n",
    "    MAE += abs(t - p)\n",
    "\n",
    "n = len(y_pred)\n",
    "MSE /= n\n",
    "MAE /= n\n",
    "RMSE = sqrt(MSE)\n",
    "\n",
    "print(f\"MSE: {MSE:.2f}\")\n",
    "print(f\"MAE: {MAE:.2f}\")\n",
    "print(f\"RMSE: {RMSE:0.2}\")"
   ]
  },
  {
   "cell_type": "markdown",
   "id": "47401d1e",
   "metadata": {},
   "source": [
    "# 2"
   ]
  },
  {
   "cell_type": "code",
   "execution_count": 13,
   "id": "7579dfa0",
   "metadata": {},
   "outputs": [
    {
     "name": "stdout",
     "output_type": "stream",
     "text": [
      "1 5 2 9 2 3\n",
      "1.5 5.2 2.3 8.7 2.8 3.3\n",
      "R2: 0.97\n"
     ]
    }
   ],
   "source": [
    "import numpy as np\n",
    "\n",
    "MSE = 0\n",
    "MAE = 0\n",
    "\n",
    "\n",
    "y_true = np.array(list(map(float, input().split())))\n",
    "y_pred = np.array(list(map(float, input().split())))\n",
    "\n",
    "mean = y_true.mean()\n",
    "\n",
    "\n",
    "for t, p in zip(y_true, y_pred):\n",
    "    MSE += (t - p) ** 2\n",
    "    MAE += (mean - p) ** 2\n",
    "\n",
    "n = len(y_pred)\n",
    "MSE /= n\n",
    "MAE /= n\n",
    "R2 = 1 - MSE / MAE\n",
    "\n",
    "print(f\"R2: {R2:.2f}\")"
   ]
  },
  {
   "cell_type": "markdown",
   "id": "983005bc",
   "metadata": {},
   "source": [
    "# 3"
   ]
  },
  {
   "cell_type": "code",
   "execution_count": 61,
   "id": "a1bf98dc",
   "metadata": {},
   "outputs": [],
   "source": [
    "from sklearn.model_selection import train_test_split\n",
    "from sklearn.neighbors import KNeighborsClassifier\n",
    "import pandas as pd\n",
    "import numpy as np\n",
    "\n",
    "df = pd.read_csv('penguins.csv')\n",
    "df.dropna(inplace=True)"
   ]
  },
  {
   "cell_type": "code",
   "execution_count": 62,
   "id": "f8372f20",
   "metadata": {},
   "outputs": [
    {
     "data": {
      "text/html": [
       "<div>\n",
       "<style scoped>\n",
       "    .dataframe tbody tr th:only-of-type {\n",
       "        vertical-align: middle;\n",
       "    }\n",
       "\n",
       "    .dataframe tbody tr th {\n",
       "        vertical-align: top;\n",
       "    }\n",
       "\n",
       "    .dataframe thead th {\n",
       "        text-align: right;\n",
       "    }\n",
       "</style>\n",
       "<table border=\"1\" class=\"dataframe\">\n",
       "  <thead>\n",
       "    <tr style=\"text-align: right;\">\n",
       "      <th></th>\n",
       "      <th>species</th>\n",
       "      <th>island</th>\n",
       "      <th>bill_length_mm</th>\n",
       "      <th>bill_depth_mm</th>\n",
       "      <th>flipper_length_mm</th>\n",
       "      <th>body_mass_g</th>\n",
       "      <th>sex</th>\n",
       "    </tr>\n",
       "  </thead>\n",
       "  <tbody>\n",
       "    <tr>\n",
       "      <th>0</th>\n",
       "      <td>Adelie</td>\n",
       "      <td>Torgersen</td>\n",
       "      <td>39.1</td>\n",
       "      <td>18.7</td>\n",
       "      <td>181.0</td>\n",
       "      <td>3750.0</td>\n",
       "      <td>MALE</td>\n",
       "    </tr>\n",
       "    <tr>\n",
       "      <th>1</th>\n",
       "      <td>Adelie</td>\n",
       "      <td>Torgersen</td>\n",
       "      <td>39.5</td>\n",
       "      <td>17.4</td>\n",
       "      <td>186.0</td>\n",
       "      <td>3800.0</td>\n",
       "      <td>FEMALE</td>\n",
       "    </tr>\n",
       "    <tr>\n",
       "      <th>2</th>\n",
       "      <td>Adelie</td>\n",
       "      <td>Torgersen</td>\n",
       "      <td>40.3</td>\n",
       "      <td>18.0</td>\n",
       "      <td>195.0</td>\n",
       "      <td>3250.0</td>\n",
       "      <td>FEMALE</td>\n",
       "    </tr>\n",
       "    <tr>\n",
       "      <th>4</th>\n",
       "      <td>Adelie</td>\n",
       "      <td>Torgersen</td>\n",
       "      <td>36.7</td>\n",
       "      <td>19.3</td>\n",
       "      <td>193.0</td>\n",
       "      <td>3450.0</td>\n",
       "      <td>FEMALE</td>\n",
       "    </tr>\n",
       "    <tr>\n",
       "      <th>5</th>\n",
       "      <td>Adelie</td>\n",
       "      <td>Torgersen</td>\n",
       "      <td>39.3</td>\n",
       "      <td>20.6</td>\n",
       "      <td>190.0</td>\n",
       "      <td>3650.0</td>\n",
       "      <td>MALE</td>\n",
       "    </tr>\n",
       "  </tbody>\n",
       "</table>\n",
       "</div>"
      ],
      "text/plain": [
       "  species     island  bill_length_mm  bill_depth_mm  flipper_length_mm  \\\n",
       "0  Adelie  Torgersen            39.1           18.7              181.0   \n",
       "1  Adelie  Torgersen            39.5           17.4              186.0   \n",
       "2  Adelie  Torgersen            40.3           18.0              195.0   \n",
       "4  Adelie  Torgersen            36.7           19.3              193.0   \n",
       "5  Adelie  Torgersen            39.3           20.6              190.0   \n",
       "\n",
       "   body_mass_g     sex  \n",
       "0       3750.0    MALE  \n",
       "1       3800.0  FEMALE  \n",
       "2       3250.0  FEMALE  \n",
       "4       3450.0  FEMALE  \n",
       "5       3650.0    MALE  "
      ]
     },
     "execution_count": 62,
     "metadata": {},
     "output_type": "execute_result"
    }
   ],
   "source": [
    "df.head()"
   ]
  },
  {
   "cell_type": "code",
   "execution_count": 87,
   "id": "47887bc2",
   "metadata": {},
   "outputs": [],
   "source": [
    "labels = df.species\n",
    "features = df[['bill_length_mm', 'bill_depth_mm']]\n",
    "train_features, test_features, train_labels, test_labels = train_test_split( \n",
    "            features, labels, test_size=0.2, random_state=123)"
   ]
  },
  {
   "cell_type": "code",
   "execution_count": 88,
   "id": "6af17d2e",
   "metadata": {},
   "outputs": [],
   "source": [
    "def accuracy(pred, test):\n",
    "    return (pred == test).sum() / len(pred)"
   ]
  },
  {
   "cell_type": "code",
   "execution_count": 89,
   "id": "ce15c88e",
   "metadata": {},
   "outputs": [],
   "source": [
    "best_score = 0\n",
    "wrost_score = 1\n",
    "\n",
    "for k in range(1, 11):\n",
    "    for w in ['uniform', 'distance']:\n",
    "        algorithm = KNeighborsClassifier(n_neighbors=k, weights=w)\n",
    "        algorithm.fit(train_features, train_labels)\n",
    "        pred_labels = algorithm.predict(test_features)\n",
    "        cur_accuracy = accuracy(pred_labels, test_labels)\n",
    "        best_score = max(best_score, cur_accuracy)\n",
    "        wrost_score = min(wrost_score, cur_accuracy)"
   ]
  },
  {
   "cell_type": "code",
   "execution_count": 90,
   "id": "23b069dd",
   "metadata": {},
   "outputs": [
    {
     "name": "stdout",
     "output_type": "stream",
     "text": [
      "Best accuracy: 0.940299\n",
      "Worst accuracy: 0.895522\n"
     ]
    }
   ],
   "source": [
    "print('Best accuracy: {:.6f}'.format(best_score)) \n",
    "print('Worst accuracy: {:.6f}'.format(wrost_score))"
   ]
  },
  {
   "cell_type": "code",
   "execution_count": null,
   "id": "c351884a",
   "metadata": {},
   "outputs": [],
   "source": []
  }
 ],
 "metadata": {
  "kernelspec": {
   "display_name": "Python 3 (ipykernel)",
   "language": "python",
   "name": "python3"
  },
  "language_info": {
   "codemirror_mode": {
    "name": "ipython",
    "version": 3
   },
   "file_extension": ".py",
   "mimetype": "text/x-python",
   "name": "python",
   "nbconvert_exporter": "python",
   "pygments_lexer": "ipython3",
   "version": "3.9.5"
  }
 },
 "nbformat": 4,
 "nbformat_minor": 5
}
