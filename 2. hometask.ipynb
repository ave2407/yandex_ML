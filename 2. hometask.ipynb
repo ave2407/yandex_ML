{
 "cells": [
  {
   "cell_type": "markdown",
   "id": "3a52f32a",
   "metadata": {},
   "source": [
    "# 1\n"
   ]
  },
  {
   "cell_type": "code",
   "execution_count": 14,
   "id": "f74d32f5",
   "metadata": {},
   "outputs": [],
   "source": [
    "%load_ext pycodestyle_magic\n",
    "%pycodestyle_on"
   ]
  },
  {
   "cell_type": "code",
   "execution_count": 17,
   "id": "97a5fac4",
   "metadata": {},
   "outputs": [],
   "source": [
    "import numpy as np\n",
    "\n",
    "\n",
    "def snake(n, m):\n",
    "    mt = np.arange(1, n * m + 1).reshape(n, m)\n",
    "    for i in range(n):\n",
    "        if i % 2:\n",
    "            mt[i] = mt[i][::-1]\n",
    "\n",
    "    return mt\n",
    "\n",
    "\n",
    "# print(snake(6, 4))"
   ]
  },
  {
   "cell_type": "markdown",
   "id": "3ff82a06",
   "metadata": {},
   "source": [
    "# 2"
   ]
  },
  {
   "cell_type": "code",
   "execution_count": 28,
   "id": "e65446f4",
   "metadata": {},
   "outputs": [],
   "source": [
    "import numpy as np\n",
    "from math import ceil\n",
    "\n",
    "\n",
    "def calculate(products, cook):\n",
    "    prods = [0, 0, 0]\n",
    "    for i in range(3):\n",
    "        for j in range(3):\n",
    "            prods[j] += products[i][j] * cook[i]\n",
    "\n",
    "    print(f'Молоко, литры: {ceil(prods[0])}')\n",
    "    print(f'Яйца, штуки: {ceil(prods[1])}')\n",
    "    print(f'Мука, кг: {ceil(prods[2])}')\n",
    "\n",
    "\n",
    "products = np.array([\n",
    "    [0.1, 2, 0.05],\n",
    "    [0.2, 1, 0.2],\n",
    "    [0.5, 3, 0.3]])\n",
    "\n",
    "cook = [10, 32, 8]\n",
    "\n",
    "calculate(products, cook)"
   ]
  },
  {
   "cell_type": "markdown",
   "id": "ed6ada68",
   "metadata": {},
   "source": [
    "# 3"
   ]
  },
  {
   "cell_type": "code",
   "execution_count": null,
   "id": "ca07c8b6",
   "metadata": {},
   "outputs": [],
   "source": [
    "import numpy as np\n",
    "import pandas as pd\n",
    "\n",
    "\n",
    "def evkl_dist(a, b):\n",
    "    dist = np.sqrt(np.sum(np.square(a - b)))\n",
    "    return dist\n",
    "\n",
    "\n",
    "df = pd.read_csv('penguins.csv')\n",
    "df.dropna(inplace=True, how='any')\n",
    "\n",
    "features = np.array(df[['bill_length_mm', 'bill_depth_mm']])\n",
    "# print(features)\n",
    "\n",
    "\n",
    "n = int(input())\n",
    "k = int(input())\n",
    "\n",
    "a = features[n]\n",
    "# print(a)\n",
    "\n",
    "ans = np.array(list(sorted(features, key=lambda x: evkl_dist(a, x))[1:k + 1]))\n",
    "\n",
    "for row in ans:\n",
    "    print(row)\n"
   ]
  }
 ],
 "metadata": {
  "kernelspec": {
   "display_name": "Python 3 (ipykernel)",
   "language": "python",
   "name": "python3"
  },
  "language_info": {
   "codemirror_mode": {
    "name": "ipython",
    "version": 3
   },
   "file_extension": ".py",
   "mimetype": "text/x-python",
   "name": "python",
   "nbconvert_exporter": "python",
   "pygments_lexer": "ipython3",
   "version": "3.9.5"
  }
 },
 "nbformat": 4,
 "nbformat_minor": 5
}
