{
 "cells": [
  {
   "cell_type": "markdown",
   "metadata": {
    "cellId": "ihl60lo3h5f408dilc34vi"
   },
   "source": [
    "#  **Практическое занятие №2. Линейная алгебра.**"
   ]
  },
  {
   "cell_type": "markdown",
   "metadata": {
    "cellId": "kixt51glp1b50ttghhcgy8"
   },
   "source": [
    "### Знакомство с библиотекой **NumPy**"
   ]
  },
  {
   "cell_type": "markdown",
   "metadata": {
    "cellId": "ehadcipeasunnpdy3ljizs"
   },
   "source": [
    "numpy - библиотека для быстрой работы с большими массивами и матрицами\n",
    "\n",
    "https://numpy.org/doc/stable/user/quickstart.html"
   ]
  },
  {
   "cell_type": "code",
   "execution_count": 1,
   "metadata": {
    "cellId": "3sygymeo30scih11x97lw8"
   },
   "outputs": [],
   "source": [
    "import numpy as np"
   ]
  },
  {
   "cell_type": "markdown",
   "metadata": {
    "cellId": "ezuwk43xnrvt8cu22i1pkc"
   },
   "source": [
    "### Создание массива"
   ]
  },
  {
   "cell_type": "code",
   "execution_count": 2,
   "metadata": {
    "cellId": "odo3py7c8yfpfrm64os7c"
   },
   "outputs": [
    {
     "name": "stdout",
     "output_type": "stream",
     "text": [
      "[1 2 3]\n",
      "\n",
      "[[1 2 3]\n",
      " [4 5 6]\n",
      " [7 8 9]]\n"
     ]
    }
   ],
   "source": [
    "# явно указать через список\n",
    "a = np.array([1, 2, 3])\n",
    "b = np.array([[1, 2, 3], [4, 5, 6], [7, 8, 9]])\n",
    "\n",
    "print(a)\n",
    "print()\n",
    "print(b)"
   ]
  },
  {
   "cell_type": "code",
   "execution_count": 3,
   "metadata": {
    "cellId": "nhxmh37152dgru54hr045i"
   },
   "outputs": [
    {
     "name": "stdout",
     "output_type": "stream",
     "text": [
      "[0. 0.]\n",
      "\n",
      "[[0. 0. 0.]\n",
      " [0. 0. 0.]]\n",
      "\n",
      "[[[0. 0. 0.]\n",
      "  [0. 0. 0.]]\n",
      "\n",
      " [[0. 0. 0.]\n",
      "  [0. 0. 0.]]]\n"
     ]
    }
   ],
   "source": [
    "# создать нулевой массив заданного размера\n",
    "a = np.zeros(2)\n",
    "b = np.zeros((2, 3))\n",
    "c = np.zeros((2, 2, 3))\n",
    "\n",
    "print(a)\n",
    "print()\n",
    "print(b)\n",
    "print()\n",
    "print(c)"
   ]
  },
  {
   "cell_type": "code",
   "execution_count": 4,
   "metadata": {
    "cellId": "niwpudgm7vyg5nlntubh8"
   },
   "outputs": [
    {
     "name": "stdout",
     "output_type": "stream",
     "text": [
      "[1. 1.]\n",
      "\n",
      "[[1. 1. 1.]\n",
      " [1. 1. 1.]]\n",
      "\n",
      "[[[1. 1. 1.]\n",
      "  [1. 1. 1.]]\n",
      "\n",
      " [[1. 1. 1.]\n",
      "  [1. 1. 1.]]]\n"
     ]
    }
   ],
   "source": [
    "# создать единичный массив заданного размера\n",
    "a = np.ones(2)\n",
    "b = np.ones((2, 3))\n",
    "c = np.ones((2, 2, 3))\n",
    "\n",
    "print(a)\n",
    "print()\n",
    "print(b)\n",
    "print()\n",
    "print(c)"
   ]
  },
  {
   "cell_type": "code",
   "execution_count": 5,
   "metadata": {
    "cellId": "cv2cvs6b5ch7r2r94eyyfi"
   },
   "outputs": [
    {
     "name": "stdout",
     "output_type": "stream",
     "text": [
      "[0 0 0]\n"
     ]
    }
   ],
   "source": [
    "# создать нулевой или единичный массив такого же размера, как некоторый другой\n",
    "a = np.array([1, 2, 3])\n",
    "b = np.zeros_like(a)\n",
    "\n",
    "print(b)"
   ]
  },
  {
   "cell_type": "code",
   "execution_count": 6,
   "metadata": {
    "cellId": "5rf6uj897qc6qmioumd61n"
   },
   "outputs": [
    {
     "name": "stdout",
     "output_type": "stream",
     "text": [
      "[[1 1]\n",
      " [1 1]]\n"
     ]
    }
   ],
   "source": [
    "a = np.array([[5, 6], [7, 8]])\n",
    "b = np.ones_like(a)\n",
    "\n",
    "print(b)"
   ]
  },
  {
   "cell_type": "code",
   "execution_count": 7,
   "metadata": {
    "cellId": "f3mg44nimvl3p83t9spop3"
   },
   "outputs": [
    {
     "name": "stdout",
     "output_type": "stream",
     "text": [
      "[[1. 0. 0.]\n",
      " [0. 1. 0.]\n",
      " [0. 0. 1.]]\n"
     ]
    }
   ],
   "source": [
    "# создать единичную матрицу (двумерный массив)\n",
    "a = np.eye(3)\n",
    "\n",
    "print(a)"
   ]
  },
  {
   "cell_type": "code",
   "execution_count": 8,
   "metadata": {
    "cellId": "7w72ob1slil6zo1hh4g4u6"
   },
   "outputs": [
    {
     "name": "stdout",
     "output_type": "stream",
     "text": [
      "[1.  1.5 2.  2.5 3.  3.5 4.  4.5]\n"
     ]
    }
   ],
   "source": [
    "# создать массив чисел от from до to с шагом step (одномерный массив)\n",
    "from_ = 1\n",
    "to_ = 5\n",
    "step_ = 0.5\n",
    "a = np.arange(from_, to_, step_)\n",
    "\n",
    "print(a)"
   ]
  },
  {
   "cell_type": "code",
   "execution_count": 9,
   "metadata": {
    "cellId": "yt4hxd535rieyj2bgvtse"
   },
   "outputs": [
    {
     "name": "stdout",
     "output_type": "stream",
     "text": [
      "[0 1 2 3 4 5 6 7 8 9]\n"
     ]
    }
   ],
   "source": [
    "# по умолчанию from = 0, step = 1\n",
    "a = np.arange(10)\n",
    "\n",
    "print(a)"
   ]
  },
  {
   "cell_type": "code",
   "execution_count": 10,
   "metadata": {
    "cellId": "wkys1x8422qsd3yu7mj1x"
   },
   "outputs": [
    {
     "name": "stdout",
     "output_type": "stream",
     "text": [
      "[[0. 0. 0. 0. 0.]\n",
      " [0. 0. 0. 0. 0.]]\n"
     ]
    }
   ],
   "source": [
    "# можно явно указать тип при создании массива вторым аргументов\n",
    "a = np.zeros((2, 5), 'float')\n",
    "\n",
    "print(a)"
   ]
  },
  {
   "cell_type": "code",
   "execution_count": 11,
   "metadata": {
    "cellId": "l48y0qsa24fbdik0g4labu"
   },
   "outputs": [
    {
     "name": "stdout",
     "output_type": "stream",
     "text": [
      "['1' '2' '5']\n"
     ]
    }
   ],
   "source": [
    "# можно заменить тип \n",
    "a = np.array([1, 2, 5])\n",
    "b = a.astype('str')\n",
    "\n",
    "print(b)"
   ]
  },
  {
   "cell_type": "code",
   "execution_count": 12,
   "metadata": {
    "cellId": "du8q82062rsqv5lfg4ca7f"
   },
   "outputs": [
    {
     "data": {
      "text/plain": [
       "{'int': [numpy.int8, numpy.int16, numpy.int32, numpy.int64],\n",
       " 'uint': [numpy.uint8, numpy.uint16, numpy.uint32, numpy.uint64],\n",
       " 'float': [numpy.float16, numpy.float32, numpy.float64],\n",
       " 'complex': [numpy.complex64, numpy.complex128],\n",
       " 'others': [bool, object, bytes, str, numpy.void]}"
      ]
     },
     "execution_count": 12,
     "metadata": {},
     "output_type": "execute_result"
    }
   ],
   "source": [
    "# посмотреть все возможные типы\n",
    "np.sctypes"
   ]
  },
  {
   "cell_type": "markdown",
   "metadata": {
    "cellId": "hqj636tfu94ysix3eintc9"
   },
   "source": [
    "**Задача 1**\n",
    "\n",
    "Создайте вектор длины 20 из случайных целых чисел от -5 до 10. \n",
    "\n",
    "Вам пригодится метод https://numpy.org/doc/stable/reference/random/generated/numpy.random.randint.html"
   ]
  },
  {
   "cell_type": "code",
   "execution_count": 13,
   "metadata": {
    "cellId": "akmtpo3niiq65hwv92t0eo"
   },
   "outputs": [
    {
     "name": "stdout",
     "output_type": "stream",
     "text": [
      "[ 3  6  9  2 -4  5  5  7  4 -1  3 -4 10 -2  0 -4  8  9 10  9]\n"
     ]
    }
   ],
   "source": [
    "a = np.random.randint(-5, 11, 20)\n",
    "print(a)"
   ]
  },
  {
   "cell_type": "markdown",
   "metadata": {
    "cellId": "p78nwktiw5ccudcevi8tpk"
   },
   "source": [
    "### Доступ к элементам массива, срезы"
   ]
  },
  {
   "cell_type": "code",
   "execution_count": 14,
   "metadata": {
    "cellId": "ivjh6v31r4sabiitntkxl"
   },
   "outputs": [
    {
     "name": "stdout",
     "output_type": "stream",
     "text": [
      "[[ 2  4  5]\n",
      " [ 8  6  7]\n",
      " [10 15 20]]\n",
      "2\n",
      "2\n"
     ]
    }
   ],
   "source": [
    "# доступ по набору целочисленных индексов\n",
    "a = np.array([[2, 4, 5], [8, 6, 7], [10, 15, 20]])\n",
    "\n",
    "print(a)\n",
    "print(a[0][0])\n",
    "print(a[0, 0])"
   ]
  },
  {
   "cell_type": "code",
   "execution_count": 15,
   "metadata": {
    "cellId": "p3elj4sehdgfcp6ii8gaeh"
   },
   "outputs": [
    {
     "name": "stdout",
     "output_type": "stream",
     "text": [
      "[[ 2  4  5]\n",
      " [ 8  6  7]\n",
      " [10 15 20]]\n",
      "[2 4 5]\n",
      "[2 4 5]\n"
     ]
    }
   ],
   "source": [
    "# срез массива вдоль первой оси\n",
    "print(a)\n",
    "print(a[0])\n",
    "print(a[0, :])"
   ]
  },
  {
   "cell_type": "code",
   "execution_count": 16,
   "metadata": {
    "cellId": "hcazw5leii54brui70oj3n"
   },
   "outputs": [
    {
     "name": "stdout",
     "output_type": "stream",
     "text": [
      "[[ 2  4  5]\n",
      " [ 8  6  7]\n",
      " [10 15 20]]\n",
      "[ 2  8 10]\n",
      "[ 4  6 15]\n"
     ]
    }
   ],
   "source": [
    "# срез можно делать вдоль любой оси\n",
    "print(a)\n",
    "print(a[:, 0])\n",
    "print(a[:, 1])"
   ]
  },
  {
   "cell_type": "code",
   "execution_count": 17,
   "metadata": {
    "cellId": "rxqeu4qst7cnwawe94ye7"
   },
   "outputs": [
    {
     "name": "stdout",
     "output_type": "stream",
     "text": [
      "[[ 2  4  5]\n",
      " [ 8  6  7]\n",
      " [10 15 20]]\n",
      "5\n",
      "4\n"
     ]
    }
   ],
   "source": [
    "# индексы могут принимать отрицательные значения, отсчет с конца массива\n",
    "print(a)\n",
    "print(a[0, -1])\n",
    "print(a[0, -2])"
   ]
  },
  {
   "cell_type": "code",
   "execution_count": 18,
   "metadata": {
    "cellId": "azpvzxx2wagh3sz0wb0ljq"
   },
   "outputs": [
    {
     "name": "stdout",
     "output_type": "stream",
     "text": [
      "[[ 2  4  5]\n",
      " [ 8  6  7]\n",
      " [10 15 20]]\n",
      "[[ 2  4  5]\n",
      " [10 15 20]]\n",
      "[[ 4  5]\n",
      " [ 6  7]\n",
      " [15 20]]\n"
     ]
    }
   ],
   "source": [
    "# срез в виде from, to, step вдоль оси\n",
    "print(a)\n",
    "print(a[0:3:2])\n",
    "print(a[:, 1:3:1])"
   ]
  },
  {
   "cell_type": "code",
   "execution_count": 19,
   "metadata": {
    "cellId": "ddrfhiz2g9rkzykjrosh3"
   },
   "outputs": [
    {
     "name": "stdout",
     "output_type": "stream",
     "text": [
      "[[ 2  4  5]\n",
      " [ 8  6  7]\n",
      " [10 15 20]]\n",
      "[[10 15 20]\n",
      " [ 8  6  7]\n",
      " [ 2  4  5]]\n",
      "[[ 5  4  2]\n",
      " [ 7  6  8]\n",
      " [20 15 10]]\n"
     ]
    }
   ],
   "source": [
    "# развернуть массив вдоль оси\n",
    "print(a)\n",
    "print(a[::-1])\n",
    "print(a[:, ::-1])"
   ]
  },
  {
   "cell_type": "code",
   "execution_count": 20,
   "metadata": {
    "cellId": "bp07ejnwcikkfn6fqiysk"
   },
   "outputs": [
    {
     "data": {
      "text/plain": [
       "array([[[1, 2],\n",
       "        [3, 4]],\n",
       "\n",
       "       [[5, 6],\n",
       "        [7, 8]]])"
      ]
     },
     "execution_count": 20,
     "metadata": {},
     "output_type": "execute_result"
    }
   ],
   "source": [
    "a = np.array([[[1, 2], [3, 4]], [[5, 6], [7, 8]]])\n",
    "a"
   ]
  },
  {
   "cell_type": "code",
   "execution_count": 21,
   "metadata": {
    "cellId": "oynx3uksyjm9635w5ep3r"
   },
   "outputs": [
    {
     "data": {
      "text/plain": [
       "array([[[5, 6],\n",
       "        [7, 8]],\n",
       "\n",
       "       [[1, 2],\n",
       "        [3, 4]]])"
      ]
     },
     "execution_count": 21,
     "metadata": {},
     "output_type": "execute_result"
    }
   ],
   "source": [
    "a[::-1]"
   ]
  },
  {
   "cell_type": "code",
   "execution_count": 22,
   "metadata": {
    "cellId": "y8jtvyphwoadbyzzqimnv"
   },
   "outputs": [
    {
     "data": {
      "text/plain": [
       "array([[[3, 4],\n",
       "        [1, 2]],\n",
       "\n",
       "       [[7, 8],\n",
       "        [5, 6]]])"
      ]
     },
     "execution_count": 22,
     "metadata": {},
     "output_type": "execute_result"
    }
   ],
   "source": [
    "a[:, ::-1]"
   ]
  },
  {
   "cell_type": "code",
   "execution_count": 70,
   "metadata": {
    "cellId": "ax8lam02htt26pe0gl572aj"
   },
   "outputs": [
    {
     "data": {
      "text/plain": [
       "array([[[2, 1],\n",
       "        [4, 3]],\n",
       "\n",
       "       [[6, 5],\n",
       "        [8, 7]]])"
      ]
     },
     "metadata": {},
     "output_type": "display_data"
    }
   ],
   "source": [
    "a[:, :, ::-1]"
   ]
  },
  {
   "cell_type": "markdown",
   "metadata": {
    "cellId": "bmvjswiu2dg9mq3py1d7tl"
   },
   "source": [
    "**Задача 2**\n",
    "\n",
    "Напишите функцию, транспонирующую матрицу nxn (без использования соотвествующих методов numpy, можно использовать один цикл)"
   ]
  },
  {
   "cell_type": "code",
   "execution_count": 24,
   "metadata": {
    "cellId": "aqi61a5dgf8n1bhknfv6o"
   },
   "outputs": [],
   "source": [
    "def custom_transpose(matrix):\n",
    "    \"\"\"\n",
    "    Inputs:\n",
    "    матрица nхm\n",
    "    \n",
    "    Outputs:\n",
    "    транспонированная матрица\n",
    "    \"\"\"\n",
    "    \n",
    "    n, m = matrix.shape\n",
    "    transposed_matrix = np.zeros((m, n), dtype=int)\n",
    "    for i in range(m):\n",
    "        transposed_matrix[i] = matrix[:, i]\n",
    "    \n",
    "    return transposed_matrix"
   ]
  },
  {
   "cell_type": "code",
   "execution_count": null,
   "metadata": {
    "cellId": "zrh784kigvjf8akagwarle"
   },
   "outputs": [],
   "source": []
  },
  {
   "cell_type": "code",
   "execution_count": 25,
   "metadata": {
    "cellId": "4lqcptqsr7mrxgw79r0a6"
   },
   "outputs": [
    {
     "data": {
      "text/plain": [
       "array([[1, 0, 0, 0, 0],\n",
       "       [0, 1, 0, 0, 0],\n",
       "       [0, 0, 1, 0, 0],\n",
       "       [0, 0, 0, 1, 0],\n",
       "       [0, 0, 0, 0, 1]])"
      ]
     },
     "execution_count": 25,
     "metadata": {},
     "output_type": "execute_result"
    }
   ],
   "source": [
    "matrix = np.eye(5)\n",
    "custom_transpose(matrix)"
   ]
  },
  {
   "cell_type": "code",
   "execution_count": 26,
   "metadata": {
    "cellId": "x5ik6ctv2er5p5zbub5ycm"
   },
   "outputs": [
    {
     "name": "stdout",
     "output_type": "stream",
     "text": [
      "[[[     3    654 234456  23445]\n",
      "  [    34     54    765     23]]]\n"
     ]
    }
   ],
   "source": [
    "matrix = np.array([[[3, 654, 234456, 23445], [34, 54, 765, 23]]])\n",
    "print(matrix)\n",
    "#custom_transpose(matrix)"
   ]
  },
  {
   "cell_type": "code",
   "execution_count": 27,
   "metadata": {
    "cellId": "2nwqt03308p1rgd4c4sjb"
   },
   "outputs": [
    {
     "data": {
      "text/plain": [
       "2"
      ]
     },
     "execution_count": 27,
     "metadata": {},
     "output_type": "execute_result"
    }
   ],
   "source": [
    "matrix.shape[1]"
   ]
  },
  {
   "cell_type": "markdown",
   "metadata": {
    "cellId": "fxldk8uh51nb00lshnidjo"
   },
   "source": [
    "**Задача 3**\n",
    "\n",
    "Cоздайте матрицу 8x8 и заполните ее числами 0 и 1 в шахматном порядке"
   ]
  },
  {
   "cell_type": "code",
   "execution_count": 84,
   "metadata": {
    "cellId": "0via3mdsy7ilrhuazllm9bb"
   },
   "outputs": [
    {
     "name": "stdout",
     "output_type": "stream",
     "text": [
      "[[0 1 0 1 0 1 0 1]\n",
      " [1 0 1 0 1 0 1 0]\n",
      " [0 1 0 1 0 1 0 1]\n",
      " [1 0 1 0 1 0 1 0]\n",
      " [0 1 0 1 0 1 0 1]\n",
      " [1 0 1 0 1 0 1 0]\n",
      " [0 1 0 1 0 1 0 1]\n",
      " [1 0 1 0 1 0 1 0]]\n"
     ]
    }
   ],
   "source": [
    "board= np.zeros((8,8), dtype=int)\n",
    "\n",
    "board[1::2,::2] = 1\n",
    "board[::2,1::2] = 1\n",
    "print(board)"
   ]
  },
  {
   "cell_type": "markdown",
   "metadata": {
    "cellId": "24ovnr53lai0yxnf8dkaj"
   },
   "source": [
    "### Форма массива и ее изменение"
   ]
  },
  {
   "cell_type": "code",
   "execution_count": 28,
   "metadata": {
    "cellId": "wc1wwwo4udhldz1sdummir"
   },
   "outputs": [
    {
     "name": "stdout",
     "output_type": "stream",
     "text": [
      "a\n",
      " [ 0  1  2  3  4  5  6  7  8  9 10 11 12 13 14 15 16 17 18 19 20 21 22 23\n",
      " 24 25 26 27 28 29 30 31 32 33 34 35]\n",
      "b\n",
      " [[ 0  1  2  3  4  5  6  7  8  9 10 11 12 13 14 15 16 17]\n",
      " [18 19 20 21 22 23 24 25 26 27 28 29 30 31 32 33 34 35]]\n",
      "c\n",
      " [[ 0  1  2  3  4  5  6  7  8]\n",
      " [ 9 10 11 12 13 14 15 16 17]\n",
      " [18 19 20 21 22 23 24 25 26]\n",
      " [27 28 29 30 31 32 33 34 35]]\n",
      "d\n",
      " [[[ 0  1  2]\n",
      "  [ 3  4  5]\n",
      "  [ 6  7  8]\n",
      "  [ 9 10 11]\n",
      "  [12 13 14]\n",
      "  [15 16 17]]\n",
      "\n",
      " [[18 19 20]\n",
      "  [21 22 23]\n",
      "  [24 25 26]\n",
      "  [27 28 29]\n",
      "  [30 31 32]\n",
      "  [33 34 35]]]\n"
     ]
    }
   ],
   "source": [
    "# изменить форму\n",
    "a = np.arange(36)\n",
    "b = a.reshape(2, 18)\n",
    "c = a.reshape(4, 9)\n",
    "d = a.reshape(2, 6, 3)\n",
    "\n",
    "print('a\\n', a)\n",
    "print('b\\n', b)\n",
    "print('c\\n', c)\n",
    "print('d\\n', d)"
   ]
  },
  {
   "cell_type": "code",
   "execution_count": 31,
   "metadata": {
    "cellId": "brwuxzaazagvtuqzybtn6"
   },
   "outputs": [
    {
     "data": {
      "text/plain": [
       "array([[ 1,  3,  5,  7,  9],\n",
       "       [21, 23, 25, 27, 29]])"
      ]
     },
     "execution_count": 31,
     "metadata": {},
     "output_type": "execute_result"
    }
   ],
   "source": [
    "a = np.array([np.arange(1, 10, 2), np.arange(21, 30, 2)])\n",
    "a"
   ]
  },
  {
   "cell_type": "code",
   "execution_count": 32,
   "metadata": {
    "cellId": "bpc4l0l0yk40urddal1w1"
   },
   "outputs": [
    {
     "data": {
      "text/plain": [
       "array([ 1,  3,  5,  7,  9, 21, 23, 25, 27, 29])"
      ]
     },
     "execution_count": 32,
     "metadata": {},
     "output_type": "execute_result"
    }
   ],
   "source": [
    "a.reshape(10, )"
   ]
  },
  {
   "cell_type": "code",
   "execution_count": 33,
   "metadata": {
    "cellId": "c9ts9ln3dq6ckybay3qnb"
   },
   "outputs": [
    {
     "data": {
      "text/plain": [
       "array([[ 1,  3],\n",
       "       [ 5,  7],\n",
       "       [ 9, 21],\n",
       "       [23, 25],\n",
       "       [27, 29]])"
      ]
     },
     "execution_count": 33,
     "metadata": {},
     "output_type": "execute_result"
    }
   ],
   "source": [
    "a.reshape(5, 2)"
   ]
  },
  {
   "cell_type": "code",
   "execution_count": 34,
   "metadata": {
    "cellId": "8ixqicndlfn7x3pnz1rwka"
   },
   "outputs": [
    {
     "name": "stdout",
     "output_type": "stream",
     "text": [
      "2 2 2 3\n",
      "(2, 5) (2, 3) (4, 9) (2, 6, 3)\n",
      "10 6 36 36\n"
     ]
    }
   ],
   "source": [
    "# узнать форму\n",
    "print(a.ndim, b.ndim, c.ndim, d.ndim)\n",
    "\n",
    "print(a.shape, b.shape, c.shape, d.shape)\n",
    "\n",
    "print(a.size, b.size, c.size, d.size)"
   ]
  },
  {
   "cell_type": "code",
   "execution_count": 38,
   "metadata": {
    "cellId": "epef4hcx69n1jm6ysum4bm"
   },
   "outputs": [
    {
     "ename": "ValueError",
     "evalue": "cannot reshape array of size 6 into shape (1,5)",
     "output_type": "error",
     "traceback": [
      "\u001b[1;31m---------------------------------------------------------------------------\u001b[0m",
      "\u001b[1;31mValueError\u001b[0m                                Traceback (most recent call last)",
      "Input \u001b[1;32mIn [38]\u001b[0m, in \u001b[0;36m<module>\u001b[1;34m\u001b[0m\n\u001b[0;32m      1\u001b[0m \u001b[38;5;66;03m# важно сохранять размеры при изменении формы\u001b[39;00m\n\u001b[0;32m      2\u001b[0m b \u001b[38;5;241m=\u001b[39m np\u001b[38;5;241m.\u001b[39marray([[\u001b[38;5;241m1\u001b[39m, \u001b[38;5;241m2\u001b[39m, \u001b[38;5;241m3\u001b[39m], [\u001b[38;5;241m4\u001b[39m, \u001b[38;5;241m5\u001b[39m, \u001b[38;5;241m6\u001b[39m]])\n\u001b[1;32m----> 3\u001b[0m c \u001b[38;5;241m=\u001b[39m \u001b[43mb\u001b[49m\u001b[38;5;241;43m.\u001b[39;49m\u001b[43mreshape\u001b[49m\u001b[43m(\u001b[49m\u001b[43m(\u001b[49m\u001b[38;5;241;43m1\u001b[39;49m\u001b[43m,\u001b[49m\u001b[43m \u001b[49m\u001b[38;5;241;43m5\u001b[39;49m\u001b[43m)\u001b[49m\u001b[43m)\u001b[49m\n",
      "\u001b[1;31mValueError\u001b[0m: cannot reshape array of size 6 into shape (1,5)"
     ]
    }
   ],
   "source": [
    "# важно сохранять размеры при изменении формы\n",
    "b = np.array([[1, 2, 3], [4, 5, 6]])\n",
    "c = b.reshape((1, 5))"
   ]
  },
  {
   "cell_type": "code",
   "execution_count": 40,
   "metadata": {
    "cellId": "gv69qnqumicm7pyt1g78g"
   },
   "outputs": [
    {
     "name": "stdout",
     "output_type": "stream",
     "text": [
      "[[1 2]\n",
      " [3 4]\n",
      " [5 6]]\n"
     ]
    }
   ],
   "source": [
    "# можно использовать -1, тогда размер вдоль этой оси будет автоматически вычисляться\n",
    "a = np.array([[1, 2, 3], [4, 5, 6]])\n",
    "b = a.reshape((3, -1))\n",
    "\n",
    "print(b)"
   ]
  },
  {
   "cell_type": "code",
   "execution_count": 95,
   "metadata": {
    "cellId": "5urcvohmnojti2765z2nzr"
   },
   "outputs": [
    {
     "name": "stdout",
     "output_type": "stream",
     "text": [
      "[[1. 0. 0. 0.]\n",
      " [0. 1. 0. 0.]\n",
      " [0. 0. 1. 0.]\n",
      " [0. 0. 0. 1.]]\n",
      "[1. 0. 0. 0. 0. 1. 0. 0. 0. 0. 1. 0. 0. 0. 0. 1.]\n"
     ]
    }
   ],
   "source": [
    "# развернуть массив в одномерный\n",
    "a = np.eye(4)\n",
    "b = a.ravel()\n",
    "\n",
    "print(a)\n",
    "print(b)"
   ]
  },
  {
   "cell_type": "markdown",
   "metadata": {
    "cellId": "zdz8m3tibqrprtmy549idr"
   },
   "source": [
    "**Задача 4**\n",
    "\n",
    "Создайте следующую матрицу, заполненную по \"змейке\". Используйте срезы и reshape (не вводя значения вручную):\n",
    "\n",
    "$$\\begin{pmatrix} 1 & 2 & 3 & 4 \\\\ 8 & 7 & 6 & 5 \\\\ 9 & 10 & 11 & 12 \\end{pmatrix}$$"
   ]
  },
  {
   "cell_type": "code",
   "execution_count": 97,
   "metadata": {
    "cellId": "u6xvqedjomnk7x9tahndxb"
   },
   "outputs": [
    {
     "data": {
      "text/plain": [
       "array([[ 1,  2,  3,  4],\n",
       "       [ 8,  7,  6,  5],\n",
       "       [ 9, 10, 11, 12]])"
      ]
     },
     "metadata": {},
     "output_type": "display_data"
    }
   ],
   "source": [
    "m = np.arange(1, 13).reshape(3, -1)\n",
    "m[1] = m[1][::-1]\n",
    "m"
   ]
  },
  {
   "cell_type": "markdown",
   "metadata": {
    "cellId": "vl9fb9r5xrjss09hm3ufd"
   },
   "source": [
    "### Транспонирование матрицы"
   ]
  },
  {
   "cell_type": "code",
   "execution_count": 98,
   "metadata": {
    "cellId": "27d31a8zklgjtusbn37mhc"
   },
   "outputs": [
    {
     "name": "stdout",
     "output_type": "stream",
     "text": [
      "[[1 2 3]\n",
      " [4 5 6]] (2, 3)\n",
      "[[1 4]\n",
      " [2 5]\n",
      " [3 6]] (3, 2)\n"
     ]
    }
   ],
   "source": [
    "# краткая запись\n",
    "a = np.array([[1, 2, 3], [4, 5, 6]])\n",
    "\n",
    "print(a, a.shape)\n",
    "print(a.T, a.T.shape)"
   ]
  },
  {
   "cell_type": "code",
   "execution_count": 99,
   "metadata": {
    "cellId": "0shr5kmawvr0j7bdmxz1xce"
   },
   "outputs": [
    {
     "name": "stdout",
     "output_type": "stream",
     "text": [
      "[[2. 1. 1.]\n",
      " [1. 2. 1.]\n",
      " [1. 1. 2.]] (3, 3)\n",
      "[[2. 1. 1.]\n",
      " [1. 2. 1.]\n",
      " [1. 1. 2.]] (3, 3)\n"
     ]
    }
   ],
   "source": [
    "# полная запись\n",
    "a = np.ones((3, 3)) + np.eye(3)\n",
    "\n",
    "print(a, a.shape)\n",
    "print(np.transpose(a), np.transpose(a).shape)"
   ]
  },
  {
   "cell_type": "markdown",
   "metadata": {
    "cellId": "03v721y0k94f5s6lxv8363w"
   },
   "source": [
    "### Математические операции над массивами\n",
    "\n",
    "Сложение, вычитание, умножение, деление, возведение в степень делаются **поэлементно**"
   ]
  },
  {
   "cell_type": "code",
   "execution_count": 100,
   "metadata": {
    "cellId": "omuv906h9bk0obeg2zen3x"
   },
   "outputs": [
    {
     "name": "stdout",
     "output_type": "stream",
     "text": [
      "[[-1.  2.  3.]\n",
      " [ 4.  5.  6.]\n",
      " [ 7.  8.  9.]]\n",
      "\n",
      "[[ 1. -2. -3.]\n",
      " [ 7.  8.  9.]\n",
      " [ 4.  5.  6.]]\n"
     ]
    }
   ],
   "source": [
    "A = np.array([[-1., 2., 3.], [4., 5., 6.], [7., 8., 9.]])\n",
    "B = np.array([[1., -2., -3.], [7., 8., 9.], [4., 5., 6.]])\n",
    "\n",
    "print(A)\n",
    "print()\n",
    "print(B)"
   ]
  },
  {
   "cell_type": "code",
   "execution_count": 101,
   "metadata": {
    "cellId": "h8rdch7x1wkkpz1snloca"
   },
   "outputs": [
    {
     "name": "stdout",
     "output_type": "stream",
     "text": [
      "[[ 0.  0.  0.]\n",
      " [11. 13. 15.]\n",
      " [11. 13. 15.]]\n"
     ]
    }
   ],
   "source": [
    "print(A + B)"
   ]
  },
  {
   "cell_type": "code",
   "execution_count": 102,
   "metadata": {
    "cellId": "fj2uj019dpeyba1ulg0ll"
   },
   "outputs": [
    {
     "name": "stdout",
     "output_type": "stream",
     "text": [
      "[[-2.  4.  6.]\n",
      " [-3. -3. -3.]\n",
      " [ 3.  3.  3.]]\n"
     ]
    }
   ],
   "source": [
    "print(A - B)"
   ]
  },
  {
   "cell_type": "code",
   "execution_count": 103,
   "metadata": {
    "cellId": "5p28vvem1u3bxjikw8hrk"
   },
   "outputs": [
    {
     "name": "stdout",
     "output_type": "stream",
     "text": [
      "[[-1. -4. -9.]\n",
      " [28. 40. 54.]\n",
      " [28. 40. 54.]]\n"
     ]
    }
   ],
   "source": [
    "print(A * B)"
   ]
  },
  {
   "cell_type": "code",
   "execution_count": 104,
   "metadata": {
    "cellId": "rt3lvqvmz9dtfjqf6midcd"
   },
   "outputs": [
    {
     "name": "stdout",
     "output_type": "stream",
     "text": [
      "[[-1.         -1.         -1.        ]\n",
      " [ 0.57142857  0.625       0.66666667]\n",
      " [ 1.75        1.6         1.5       ]]\n"
     ]
    }
   ],
   "source": [
    "print(A / B)"
   ]
  },
  {
   "cell_type": "code",
   "execution_count": 105,
   "metadata": {
    "cellId": "vg0xo8rt30ljj7ae6zo2p"
   },
   "outputs": [
    {
     "name": "stdout",
     "output_type": "stream",
     "text": [
      "[[ 1.  4.  9.]\n",
      " [16. 25. 36.]\n",
      " [49. 64. 81.]]\n"
     ]
    }
   ],
   "source": [
    "print(A ** 2)"
   ]
  },
  {
   "cell_type": "code",
   "execution_count": 106,
   "metadata": {
    "cellId": "a06ki4axirsuwx57dp4z6"
   },
   "outputs": [
    {
     "name": "stdout",
     "output_type": "stream",
     "text": [
      "1 1\n",
      "3 3\n"
     ]
    }
   ],
   "source": [
    "# необязательно формы массивов должны совпадать\n",
    "# допустимо, чтобы A[i].ndim = B.ndim && A[i].size = B.size\n",
    "A = np.array([[1., 2., 3.], [4., 5., 6.], [7., 8., 9.]])\n",
    "B = np.array([-1.1, -1.2, -1.3])\n",
    "\n",
    "print(A[0].ndim, B.ndim)\n",
    "print(A[0].size, B.size)"
   ]
  },
  {
   "cell_type": "code",
   "execution_count": 107,
   "metadata": {
    "cellId": "scdqot5rivjmsrf3dc9ha"
   },
   "outputs": [
    {
     "data": {
      "text/plain": [
       "array([[ -1.1,  -2.4,  -3.9],\n",
       "       [ -4.4,  -6. ,  -7.8],\n",
       "       [ -7.7,  -9.6, -11.7]])"
      ]
     },
     "metadata": {},
     "output_type": "display_data"
    }
   ],
   "source": [
    "A * B"
   ]
  },
  {
   "cell_type": "code",
   "execution_count": 108,
   "metadata": {
    "cellId": "n3kkdittyji1mrl3du8v"
   },
   "outputs": [
    {
     "name": "stdout",
     "output_type": "stream",
     "text": [
      "[[3. 0. 0.]\n",
      " [0. 3. 0.]\n",
      " [0. 0. 3.]]\n"
     ]
    }
   ],
   "source": [
    "# разумеется, можно умножать массивы на число\n",
    "A = np.eye(3)\n",
    "\n",
    "print(3 * A)"
   ]
  },
  {
   "cell_type": "markdown",
   "metadata": {
    "cellId": "2fqglflb8bb18lo1nml2cd"
   },
   "source": [
    "**Задача 5**\n",
    "\n",
    "Напишите функцию, которая создает диагональную матрицу NхN с квадратами чисел от N до 1 на главной диагонали"
   ]
  },
  {
   "cell_type": "code",
   "execution_count": 109,
   "metadata": {
    "cellId": "pd0wj3hbon99z6uu1j4gg5"
   },
   "outputs": [],
   "source": [
    "def make_diag_matrix_by_N(N):\n",
    "    \"\"\"\n",
    "    Inputs:\n",
    "    число N < 100\n",
    "    \n",
    "    Outputs:\n",
    "    матрица размера N*N с квадратами чисел от N до 1 на главной диагонали\n",
    "    \"\"\"\n",
    "    \n",
    "    matrix = np.eye(N) * np.arange(N, 0, -1) ** 2\n",
    "#     1 0 0 0 0 * N, n-1, n-2. .. 1\n",
    "#     0 1 0 0 0 * N, n-1, n-2\n",
    "    return matrix"
   ]
  },
  {
   "cell_type": "code",
   "execution_count": 110,
   "metadata": {
    "cellId": "c82dvbgavuu5vkd4xrbh5c"
   },
   "outputs": [
    {
     "data": {
      "text/plain": [
       "array([[100.,   0.,   0.,   0.,   0.,   0.,   0.,   0.,   0.,   0.],\n",
       "       [  0.,  81.,   0.,   0.,   0.,   0.,   0.,   0.,   0.,   0.],\n",
       "       [  0.,   0.,  64.,   0.,   0.,   0.,   0.,   0.,   0.,   0.],\n",
       "       [  0.,   0.,   0.,  49.,   0.,   0.,   0.,   0.,   0.,   0.],\n",
       "       [  0.,   0.,   0.,   0.,  36.,   0.,   0.,   0.,   0.,   0.],\n",
       "       [  0.,   0.,   0.,   0.,   0.,  25.,   0.,   0.,   0.,   0.],\n",
       "       [  0.,   0.,   0.,   0.,   0.,   0.,  16.,   0.,   0.,   0.],\n",
       "       [  0.,   0.,   0.,   0.,   0.,   0.,   0.,   9.,   0.,   0.],\n",
       "       [  0.,   0.,   0.,   0.,   0.,   0.,   0.,   0.,   4.,   0.],\n",
       "       [  0.,   0.,   0.,   0.,   0.,   0.,   0.,   0.,   0.,   1.]])"
      ]
     },
     "metadata": {},
     "output_type": "display_data"
    }
   ],
   "source": [
    "make_diag_matrix_by_N(10)"
   ]
  },
  {
   "cell_type": "markdown",
   "metadata": {
    "cellId": "1ocq0jgs9yhh6e5e3ay25fe"
   },
   "source": [
    "### Операция dot - умножение матрицы на вектор, и матрицы на матрицу"
   ]
  },
  {
   "cell_type": "code",
   "execution_count": 111,
   "metadata": {
    "cellId": "rn0rtsrteehoyy12zgpp18"
   },
   "outputs": [
    {
     "name": "stdout",
     "output_type": "stream",
     "text": [
      "6\n"
     ]
    }
   ],
   "source": [
    "# два скаляра - умножение чисел\n",
    "A = 2\n",
    "B = 3\n",
    "\n",
    "print(np.dot(A, B))"
   ]
  },
  {
   "cell_type": "code",
   "execution_count": 112,
   "metadata": {
    "cellId": "deipquv77srgqg850q9gsj"
   },
   "outputs": [
    {
     "name": "stdout",
     "output_type": "stream",
     "text": [
      "[ 6.  9. 12.]\n"
     ]
    }
   ],
   "source": [
    "# скаляр и вектор - умножение вектора на скаляр\n",
    "A = np.array([2., 3., 4.])\n",
    "B = 3\n",
    "\n",
    "print(np.dot(A, B))"
   ]
  },
  {
   "cell_type": "code",
   "execution_count": 113,
   "metadata": {
    "cellId": "y9v5cikd91gsdeqvtnqt2"
   },
   "outputs": [
    {
     "name": "stdout",
     "output_type": "stream",
     "text": [
      "-5.0\n"
     ]
    }
   ],
   "source": [
    "# два вектора - скалярное произведение\n",
    "A = np.array([2., 3., 4.])\n",
    "B = np.array([-2., 1., -1.])\n",
    "\n",
    "print(np.dot(A, B))"
   ]
  },
  {
   "cell_type": "code",
   "execution_count": 114,
   "metadata": {
    "cellId": "kp45w05bern79f307jw0ti"
   },
   "outputs": [
    {
     "name": "stdout",
     "output_type": "stream",
     "text": [
      "[ 6. 15. 24.]\n"
     ]
    }
   ],
   "source": [
    "# матрица и вектор - умножение матрицы на вектор \n",
    "A = np.array([[1, 2, 3], [4, 5, 6], [7, 8, 9]])\n",
    "B = np.ones(3)\n",
    "\n",
    "print(np.dot(A, B))"
   ]
  },
  {
   "cell_type": "code",
   "execution_count": 115,
   "metadata": {
    "cellId": "2kg4vgivqfv2316pq89qk6"
   },
   "outputs": [
    {
     "name": "stdout",
     "output_type": "stream",
     "text": [
      "[12. 15. 18.]\n",
      "[12. 15. 18.]\n"
     ]
    }
   ],
   "source": [
    "# если наоборот, то результат - умножение транспонированной матрицы на этот вектор\n",
    "print(np.dot(B, A))\n",
    "print(np.dot(A.T, B))"
   ]
  },
  {
   "cell_type": "code",
   "execution_count": 116,
   "metadata": {
    "cellId": "cwqeyxig9vovtkdne0waj"
   },
   "outputs": [
    {
     "name": "stdout",
     "output_type": "stream",
     "text": [
      "[[6. 6. 6. 6. 6. 6. 6.]\n",
      " [6. 6. 6. 6. 6. 6. 6.]\n",
      " [6. 6. 6. 6. 6. 6. 6.]\n",
      " [6. 6. 6. 6. 6. 6. 6.]\n",
      " [6. 6. 6. 6. 6. 6. 6.]]\n"
     ]
    }
   ],
   "source": [
    "# две матрицы\n",
    "A = np.ones((5, 6))\n",
    "B = np.ones((6, 7))\n",
    "\n",
    "print(np.dot(A, B))"
   ]
  },
  {
   "cell_type": "code",
   "execution_count": 117,
   "metadata": {
    "cellId": "zyk95jawc1i0z2y49lvbf"
   },
   "outputs": [
    {
     "ename": "ValueError",
     "evalue": "shapes (6,7) and (5,6) not aligned: 7 (dim 1) != 5 (dim 0)",
     "output_type": "error",
     "traceback": [
      "\u001b[0;31m---------------------------------------------------------------------------\u001b[0m",
      "\u001b[0;31mValueError\u001b[0m                                Traceback (most recent call last)",
      "\u001b[0;32m<ipython-input-72-fe9706cd3bdb>\u001b[0m in \u001b[0;36m<module>\u001b[0;34m\u001b[0m\n\u001b[1;32m      1\u001b[0m \u001b[0;31m# важно, чтобы матрицы соответствовали по размеру (число столбцов первой матрицы равнялось число строк второй)\u001b[0m\u001b[0;34m\u001b[0m\u001b[0;34m\u001b[0m\u001b[0;34m\u001b[0m\u001b[0m\n\u001b[0;32m----> 2\u001b[0;31m \u001b[0mprint\u001b[0m\u001b[0;34m(\u001b[0m\u001b[0mnp\u001b[0m\u001b[0;34m.\u001b[0m\u001b[0mdot\u001b[0m\u001b[0;34m(\u001b[0m\u001b[0mB\u001b[0m\u001b[0;34m,\u001b[0m \u001b[0mA\u001b[0m\u001b[0;34m)\u001b[0m\u001b[0;34m)\u001b[0m\u001b[0;34m\u001b[0m\u001b[0;34m\u001b[0m\u001b[0m\n\u001b[0m\u001b[1;32m      3\u001b[0m \u001b[0;31m#\u001b[0m\u001b[0;34m\u001b[0m\u001b[0;34m\u001b[0m\u001b[0;34m\u001b[0m\u001b[0m\n",
      "\u001b[0;32m<__array_function__ internals>\u001b[0m in \u001b[0;36mdot\u001b[0;34m(*args, **kwargs)\u001b[0m\n",
      "\u001b[0;31mValueError\u001b[0m: shapes (6,7) and (5,6) not aligned: 7 (dim 1) != 5 (dim 0)"
     ]
    }
   ],
   "source": [
    "# важно, чтобы матрицы соответствовали по размеру (число столбцов первой матрицы равнялось число строк второй)\n",
    "print(np.dot(B, A))"
   ]
  },
  {
   "cell_type": "code",
   "execution_count": 118,
   "metadata": {
    "cellId": "hpfqk886q2cgmwrcp7zxor"
   },
   "outputs": [
    {
     "name": "stdout",
     "output_type": "stream",
     "text": [
      "[[6. 6. 6. 6. 6. 6. 6.]\n",
      " [6. 6. 6. 6. 6. 6. 6.]\n",
      " [6. 6. 6. 6. 6. 6. 6.]\n",
      " [6. 6. 6. 6. 6. 6. 6.]\n",
      " [6. 6. 6. 6. 6. 6. 6.]]\n"
     ]
    }
   ],
   "source": [
    "# другой способ перемножения матриц - операция matmul @\n",
    "A = np.ones((5, 6))\n",
    "B = np.ones((6, 7))\n",
    "\n",
    "print(A @ B)"
   ]
  },
  {
   "cell_type": "code",
   "execution_count": 119,
   "metadata": {
    "cellId": "cnh71rh1luheeg8hpyjfan"
   },
   "outputs": [
    {
     "ename": "ValueError",
     "evalue": "matmul: Input operand 1 has a mismatch in its core dimension 0, with gufunc signature (n?,k),(k,m?)->(n?,m?) (size 5 is different from 7)",
     "output_type": "error",
     "traceback": [
      "\u001b[0;31m---------------------------------------------------------------------------\u001b[0m",
      "\u001b[0;31mValueError\u001b[0m                                Traceback (most recent call last)",
      "\u001b[0;32m<ipython-input-74-317270225d66>\u001b[0m in \u001b[0;36m<module>\u001b[0;34m\u001b[0m\n\u001b[1;32m      1\u001b[0m \u001b[0;31m# тоже работает только для подходящих по размеру матриц\u001b[0m\u001b[0;34m\u001b[0m\u001b[0;34m\u001b[0m\u001b[0;34m\u001b[0m\u001b[0m\n\u001b[0;32m----> 2\u001b[0;31m \u001b[0mprint\u001b[0m\u001b[0;34m(\u001b[0m\u001b[0mB\u001b[0m \u001b[0;34m@\u001b[0m \u001b[0mA\u001b[0m\u001b[0;34m)\u001b[0m\u001b[0;34m\u001b[0m\u001b[0;34m\u001b[0m\u001b[0m\n\u001b[0m\u001b[1;32m      3\u001b[0m \u001b[0;31m#\u001b[0m\u001b[0;34m\u001b[0m\u001b[0;34m\u001b[0m\u001b[0;34m\u001b[0m\u001b[0m\n",
      "\u001b[0;31mValueError\u001b[0m: matmul: Input operand 1 has a mismatch in its core dimension 0, with gufunc signature (n?,k),(k,m?)->(n?,m?) (size 5 is different from 7)"
     ]
    }
   ],
   "source": [
    "# тоже работает только для подходящих по размеру матриц\n",
    "print(B @ A)"
   ]
  },
  {
   "cell_type": "markdown",
   "metadata": {
    "cellId": "z83nkoq6ul7gi05usq3bnv"
   },
   "source": [
    "**Задача 6**\n",
    "\n",
    "В бизнес-центре есть помещения разных типов. Помещения имеют разные параметры, эти параметры перечислены в списке features_names. Сами параметры помещений описаны в матрице rooms.\n",
    "\n",
    "Помещения принадлежат препринимателям, которые сдают их в аренду. Каждый предприниматель владеет разным количеством помещений разного типа. То, сколькими помещениями каждого типа владеют предприниматели, описано в матрице owners.\n",
    "\n",
    "Найдите указанные ниже значения"
   ]
  },
  {
   "cell_type": "code",
   "execution_count": 120,
   "metadata": {
    "cellId": "v3bom21gpde279adrtsto"
   },
   "outputs": [
    {
     "name": "stdout",
     "output_type": "stream",
     "text": [
      "32000.0\n"
     ]
    }
   ],
   "source": [
    "features_names = ['длина комнаты (м)', 'ширина комнаты (м)', 'этаж', 'год последнего ремонта', 'цена аренды (рубли)']\n",
    "\n",
    "rooms = np.array([\n",
    "    [3, 7, 8, 2001, 15000],\n",
    "    [6, 8, 1, 2015, 36000],\n",
    "    [5, 20, 7, 2012, 57000],\n",
    "    [5, 8, 15, 2021, 41000],\n",
    "    [2, 5, 1, 1999, 11000]\n",
    "])\n",
    "\n",
    "owners = np.array([\n",
    "    [1, 3, 5, 1, 0],\n",
    "    [0, 2, 0, 10, 0],\n",
    "    [1, 1, 1, 1, 1]\n",
    "])\n",
    "\n",
    "# найдите среднюю цену аренды помещения\n",
    "average_cost = np.sum(rooms[:, 4]) / rooms.shape[0]\n",
    "print(average_cost)"
   ]
  },
  {
   "cell_type": "code",
   "execution_count": 127,
   "metadata": {
    "cellId": "6f5ldo4yujr9w53hd0x7as"
   },
   "outputs": [
    {
     "name": "stdout",
     "output_type": "stream",
     "text": [
      "[ 2  6  6 12  1]\n",
      "40407.40740740741\n"
     ]
    }
   ],
   "source": [
    "rooms_count = np.array([np.sum(x) for x in owners.T])\n",
    "print(rooms_count)\n",
    "average_cost = np.dot(rooms_count, rooms[:, -1]) / np.sum(rooms_count)\n",
    "print(average_cost)"
   ]
  },
  {
   "cell_type": "code",
   "execution_count": 129,
   "metadata": {
    "cellId": "h28k1b3h6eerr2e8zk370g"
   },
   "outputs": [
    {
     "data": {
      "text/plain": [
       "array([ 2,  6,  6, 12,  1])"
      ]
     },
     "metadata": {},
     "output_type": "display_data"
    }
   ],
   "source": [
    "rooms_count = np.sum(owners, axis=0)\n",
    "rooms_count"
   ]
  },
  {
   "cell_type": "code",
   "execution_count": 121,
   "metadata": {
    "cellId": "sgqtxfn2zicy6y8v1n2zsg"
   },
   "outputs": [
    {
     "name": "stdout",
     "output_type": "stream",
     "text": [
      "449000\n"
     ]
    }
   ],
   "source": [
    "# найдите суммарную цену, которую зарабатывает 1ый предприниматель, сдавая свои помещения\n",
    "owner1_income = np.sum(rooms[:, 4] * owners[0])\n",
    "\n",
    "print(owner1_income)"
   ]
  },
  {
   "cell_type": "code",
   "execution_count": 122,
   "metadata": {
    "cellId": "agky96x7zicnm063n9pt7"
   },
   "outputs": [
    {
     "data": {
      "text/plain": [
       "449000"
      ]
     },
     "metadata": {},
     "output_type": "display_data"
    }
   ],
   "source": [
    "np.dot(owners[0], rooms[:, 4])"
   ]
  },
  {
   "cell_type": "code",
   "execution_count": 123,
   "metadata": {
    "cellId": "t3uqhyuo90m6ra7i5djyi4"
   },
   "outputs": [
    {
     "data": {
      "text/plain": [
       "array([449000, 482000, 160000])"
      ]
     },
     "metadata": {},
     "output_type": "display_data"
    }
   ],
   "source": [
    "# найдите суммарную цену, которую зарабатывает каждый преприниматель, сдавая свои помещения\n",
    "owners_income = np.dot(owners, rooms[:, 4])\n",
    "owners_income"
   ]
  },
  {
   "cell_type": "code",
   "execution_count": 126,
   "metadata": {
    "cellId": "4rh5sygxg78w640mq29u2g"
   },
   "outputs": [
    {
     "data": {
      "text/plain": [
       "array([0, 1, 0, 0, 1])"
      ]
     },
     "metadata": {},
     "output_type": "display_data"
    }
   ],
   "source": [
    "# посчитайте дополнительные фичи\n",
    "# площадь помещения\n",
    "area = rooms[:, 0] * rooms[:, 1]\n",
    "\n",
    "# возраст ремонта\n",
    "repair_old = 2022 - rooms[:, 3]\n",
    "\n",
    "# бинарный признак \"этаж 1 или не первый\"\n",
    "is_first_floor = (rooms[:, 2] == 1).astype('int')\n",
    "is_first_floor"
   ]
  },
  {
   "cell_type": "markdown",
   "metadata": {
    "cellId": "pjlr0qd1ypmldy8sz0roa"
   },
   "source": [
    "### Обратная матрица и определитель"
   ]
  },
  {
   "cell_type": "code",
   "execution_count": 131,
   "metadata": {
    "cellId": "cnp7z01ziq84wghtx0pkk"
   },
   "outputs": [
    {
     "name": "stdout",
     "output_type": "stream",
     "text": [
      "[[1. 0. 0. 0. 0. 0. 0. 0. 0. 0.]\n",
      " [0. 1. 0. 0. 0. 0. 0. 0. 0. 0.]\n",
      " [0. 0. 1. 0. 0. 0. 0. 0. 0. 0.]\n",
      " [0. 0. 0. 1. 0. 0. 0. 0. 0. 0.]\n",
      " [0. 0. 0. 0. 1. 0. 0. 0. 0. 0.]\n",
      " [0. 0. 0. 0. 0. 1. 0. 0. 0. 0.]\n",
      " [0. 0. 0. 0. 0. 0. 1. 0. 0. 0.]\n",
      " [0. 0. 0. 0. 0. 0. 0. 1. 0. 0.]\n",
      " [0. 0. 0. 0. 0. 0. 0. 0. 1. 0.]\n",
      " [0. 0. 0. 0. 0. 0. 0. 0. 0. 1.]]\n",
      "1.0\n"
     ]
    }
   ],
   "source": [
    "# определитель\n",
    "A = np.eye(10)\n",
    "\n",
    "print(A)\n",
    "print(np.linalg.det(A))"
   ]
  },
  {
   "cell_type": "code",
   "execution_count": 135,
   "metadata": {
    "cellId": "to1y4nsimoglb3hqpafv3m"
   },
   "outputs": [
    {
     "name": "stdout",
     "output_type": "stream",
     "text": [
      "[[1. 0. 0.]\n",
      " [0. 2. 0.]\n",
      " [0. 0. 3.]]\n",
      "6.0\n"
     ]
    }
   ],
   "source": [
    "a = np.eye(3) * np.arange(1, 4)\n",
    "print(a)\n",
    "print(np.linalg.det(a))"
   ]
  },
  {
   "cell_type": "code",
   "execution_count": null,
   "metadata": {
    "cellId": "4zfsvd8lnw3xjb8whtsf1e"
   },
   "outputs": [],
   "source": [
    "# a = diag(a1, a2, a3... an)\n",
    "# det(a) = a1 * a2 * a3"
   ]
  },
  {
   "cell_type": "code",
   "execution_count": 136,
   "metadata": {
    "cellId": "r93z8rvzgd3lrkuxf9n4d"
   },
   "outputs": [
    {
     "name": "stdout",
     "output_type": "stream",
     "text": [
      "[[6. 1. 1. 1. 1. 1.]\n",
      " [1. 6. 1. 1. 1. 1.]\n",
      " [1. 1. 6. 1. 1. 1.]\n",
      " [1. 1. 1. 6. 1. 1.]\n",
      " [1. 1. 1. 1. 6. 1.]\n",
      " [1. 1. 1. 1. 1. 6.]]\n",
      "34374.99999999999\n"
     ]
    }
   ],
   "source": [
    "B = 5 * np.eye(6) + np.ones(6)\n",
    "\n",
    "print(B)\n",
    "print(np.linalg.det(B.astype('int')))\n",
    "\n",
    "# LU - разложение A = LU"
   ]
  },
  {
   "cell_type": "code",
   "execution_count": 138,
   "metadata": {
    "cellId": "sgormnyt1lp48cj1vr9bj2"
   },
   "outputs": [
    {
     "name": "stdout",
     "output_type": "stream",
     "text": [
      "[[-2.   1. ]\n",
      " [ 1.5 -0.5]]\n",
      "[[1.0000000e+00 0.0000000e+00]\n",
      " [8.8817842e-16 1.0000000e+00]]\n",
      "[[ True  True]\n",
      " [False False]]\n",
      "True\n"
     ]
    }
   ],
   "source": [
    "# обратная матрица\n",
    "A = np.array([[1, 2], [3, 4]])\n",
    "B = np.linalg.inv(A)\n",
    "\n",
    "print(B)\n",
    "\n",
    "# B - обратная для A AB = BA = E\n",
    "\n",
    "print(A @ B)\n",
    "\n",
    "print (A @ B == np.eye(2))\n",
    "\n",
    "print(np.allclose(A @ B, np.eye(2)))"
   ]
  },
  {
   "cell_type": "markdown",
   "metadata": {
    "cellId": "sedandkon3kv3m3kvgc38p"
   },
   "source": [
    "**Задача 5**\n",
    "\n",
    "Решите задачу 5 из теста к лекции методами numpy. Транспонируйте матрицу $X$ и вычислите определитель получившейся матрицы.\n",
    "$$X = \\begin{pmatrix} 3 & -1 & 0 \\\\  2 & 1 & -1 \\\\  1 & 5 & 4 \\end{pmatrix}$$"
   ]
  },
  {
   "cell_type": "code",
   "execution_count": 143,
   "metadata": {
    "cellId": "66iap1zc8uxqpqjuvodrd"
   },
   "outputs": [
    {
     "name": "stdout",
     "output_type": "stream",
     "text": [
      "[[ 3  2  1]\n",
      " [-1  1  5]\n",
      " [ 0 -1  4]]\n",
      "36.0\n"
     ]
    }
   ],
   "source": [
    "x = np.array([[3, -1, 0], [2, 1, -1], [1, 5, 4]])\n",
    "x = x.transpose()\n",
    "print(x)\n",
    "print(np.linalg.det(x))"
   ]
  },
  {
   "cell_type": "markdown",
   "metadata": {
    "cellId": "789bk1xzv58o3mq9rbe7"
   },
   "source": [
    "**Задача 6**\n",
    "\n",
    "Решите задачу 6 из теста к лекции методами numpy. Найдите все обратимые матрицы из списка:\n",
    "\n",
    "$$X = \\begin{pmatrix} 3 & -1 & 0 \\\\ 2 & 1 & -1 \\\\ 1 & 5 & 4 \\end{pmatrix}$$\n",
    "\n",
    "$$Y = \\begin{pmatrix} 3 & 0 & 0 \\\\ 1 & 0 & 4 \\\\ 5 & 6 & 4 \\\\ 3 & 3 & 6\\\\ \\end{pmatrix}$$\n",
    "\n",
    "$$M = \\begin{pmatrix} 4 &  2 \\\\ 6 & 3  \\end{pmatrix}$$\n",
    "\n",
    "$$N = \\begin{pmatrix} 0 & -1 \\\\ 1 & 0 \\end{pmatrix}$$"
   ]
  },
  {
   "cell_type": "code",
   "execution_count": 144,
   "metadata": {
    "cellId": "74o9x6an50etzeto0c7wu"
   },
   "outputs": [
    {
     "name": "stdout",
     "output_type": "stream",
     "text": [
      "[[ 3  2  1]\n",
      " [-1  1  5]\n",
      " [ 0 -1  4]]\n",
      "[[ 0 -1]\n",
      " [ 1  0]]\n"
     ]
    }
   ],
   "source": [
    "y = np.array([[3, 0, 0], [1, 0, 4], [5, 6, 4], [3, 3, 6]])\n",
    "m = np.array([[4, 2], [6, 3]])\n",
    "n = np.array([[0, -1], [1, 0]])\n",
    "matrixes = [x, y, m, n]\n",
    "\n",
    "for matrix in matrixes:\n",
    "    if matrix.shape[0] == matrix.shape[1] and np.linalg.det(matrix):\n",
    "        print(matrix)"
   ]
  }
 ],
 "metadata": {
  "kernelspec": {
   "display_name": "Python 3 (ipykernel)",
   "language": "python",
   "name": "python3"
  },
  "language_info": {
   "codemirror_mode": {
    "name": "ipython",
    "version": 3
   },
   "file_extension": ".py",
   "mimetype": "text/x-python",
   "name": "python",
   "nbconvert_exporter": "python",
   "pygments_lexer": "ipython3",
   "version": "3.9.5"
  },
  "notebookId": "bec0eb44-8905-4803-943a-c7db9974fb44",
  "notebookPath": "ml_practice_2_linear_algebra_upd .ipynb"
 },
 "nbformat": 4,
 "nbformat_minor": 4
}
